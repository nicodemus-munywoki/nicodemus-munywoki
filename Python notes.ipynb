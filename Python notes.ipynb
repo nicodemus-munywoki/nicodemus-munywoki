{
 "cells": [
  {
   "cell_type": "markdown",
   "metadata": {},
   "source": [
    "# PYTHON\n",
    "\n",
    "Function to invert a given string"
   ]
  },
  {
   "cell_type": "code",
   "execution_count": null,
   "metadata": {},
   "outputs": [],
   "source": [
    "def stringInver(src):\n",
    "    global Output\n",
    "    words=src.split(\" \")\n",
    "    words=words[-1::-1]\n",
    "    n=len(words)\n",
    "    Output=' '.join(words)\n",
    "    print(n)\n",
    "    return Output\n",
    "def main():\n",
    "    src=input(\"Enter a sentence: \")\n",
    "    stringInver(src)\n",
    "    print(Output)\n",
    "main()"
   ]
  },
  {
   "cell_type": "markdown",
   "metadata": {},
   "source": [
    "Function to find Factorial of a number:\n"
   ]
  },
  {
   "cell_type": "code",
   "execution_count": 8,
   "metadata": {},
   "outputs": [
    {
     "name": "stdout",
     "output_type": "stream",
     "text": [
      "Enter a number: 5\n",
      "Factorial is   120\n"
     ]
    }
   ],
   "source": [
    "def FactorialN(n):\n",
    "    global factorial\n",
    "    factorial = 1\n",
    "    while n > 0:\n",
    "        factorial = factorial * n #can write this as factorial ∗= n\n",
    "        n = n - 1 #can write this as n −= 1\n",
    "    return factorial\n",
    "def main():\n",
    "    n = int(input('Enter a number: '))\n",
    "    FactorialN(n)\n",
    "    print('Factorial is  ', factorial)\n",
    "main()"
   ]
  },
  {
   "cell_type": "markdown",
   "metadata": {},
   "source": [
    "Function to calculate the sqareRoot a number where $x_n$ is a close approximation and a better one is $x_{n+1}$ given by:\n",
    "\\begin{equation}\n",
    "x_{n+1}=\\frac{1}{2}\\left(x_n+\\frac{A}{x_n}\\right)\n",
    "\\end{equation}"
   ]
  },
  {
   "cell_type": "code",
   "execution_count": 9,
   "metadata": {},
   "outputs": [
    {
     "name": "stdout",
     "output_type": "stream",
     "text": [
      "Enter a number to calculate sqrt: 6\n",
      "Apprximate Square root of 6 is  2.4494897959183675\n"
     ]
    }
   ],
   "source": [
    "def squreRoot(number):\n",
    "    global initialApproximation\n",
    "    initialApproximation = 0.5 * number\n",
    "    error = (initialApproximation ** 2) - number\n",
    "    while error > 0.000001 or error < -0.000001:\n",
    "        betterApprox = 0.5 * (initialApproximation + number / initialApproximation)\n",
    "        initialApproximation = betterApprox\n",
    "        error = initialApproximation ** 2 - number\n",
    "    return initialApproximation\n",
    "def main():\n",
    "    number = int(input('Enter a number to calculate sqrt: '))\n",
    "    squreRoot(number)\n",
    "    print('Apprximate Square root of', number, 'is ' , initialApproximation)\n",
    "main()"
   ]
  },
  {
   "cell_type": "markdown",
   "metadata": {},
   "source": [
    "A function to evaluate the given series.\n",
    "\\begin{equation}\n",
    "\\sum_{i=1}^{100}\\frac{1}{i^2}=\\frac{1}{1^2}+\\frac{1}{2^2}+\\frac{1}{3^2}...+\\frac{1}{100^2}\n",
    "\\end{equation}"
   ]
  },
  {
   "cell_type": "code",
   "execution_count": null,
   "metadata": {},
   "outputs": [],
   "source": [
    "def SeriesOf(i):\n",
    "    global sumz\n",
    "    sumz = 0\n",
    "    while i <= 100:\n",
    "        sumz = sumz + 1 / (i**2)\n",
    "        i += 1\n",
    "    return sumz\n",
    "def main():\n",
    "    i = int(input('Enter value of i: '))\n",
    "    SeriesOf(i)\n",
    "    print('Sum = ', sumz)\n",
    "main()"
   ]
  },
  {
   "cell_type": "markdown",
   "metadata": {},
   "source": [
    "The $n^{th}$ number in Fibonacci sequence is given by:<br>\n",
    "$ \\begin{equation}\n",
    "F_n=F_{n-1}+F_{n-2}  \n",
    "\\end{equation}$\n",
    "For $F_0 = 0$ and $F_1 = 1$<br>\n",
    "A function that recieves a value of N and gives the fibonacci sequence is as follows"
   ]
  },
  {
   "cell_type": "code",
   "execution_count": null,
   "metadata": {},
   "outputs": [],
   "source": [
    "def Fibonacci(n):\n",
    "    global nexts\n",
    "    first = 0\n",
    "    second = 1\n",
    "    i = 0\n",
    "    print( first , second, end = ' ')\n",
    "    while i <= n:\n",
    "        nexts = first + second\n",
    "        first = second\n",
    "        second = nexts\n",
    "        i += 1\n",
    "        print(nexts, end = ' ')\n",
    "def main():\n",
    "    n = int(input('Enter a number: '))\n",
    "    Fibonacci(n)\n",
    "    \n",
    "main()"
   ]
  },
  {
   "cell_type": "markdown",
   "metadata": {},
   "source": [
    "Write a python function to estimate the value of $\\pi$ which is given by the following formular:\n",
    "\\begin{equation}\n",
    "\\pi = 4\\left(1-\\frac{1}{3}+\\frac{1}{5}-\\frac{1}{7}...+\\frac{(-1)^{i+1}}{2i-1}\\right)\n",
    "\\end{equation}"
   ]
  },
  {
   "cell_type": "code",
   "execution_count": null,
   "metadata": {},
   "outputs": [],
   "source": [
    "import math\n",
    "x = 0\n",
    "for i in range (2,10):\n",
    "    x += (-1)** (i+1) / (2 * i - 1)\n",
    "y = 1 + x\n",
    "pi = 4 * y;\n",
    "print(\"Pi = \" , pi)"
   ]
  },
  {
   "cell_type": "markdown",
   "metadata": {},
   "source": [
    "A function to find the perfect numbers between 0 and 10000"
   ]
  },
  {
   "cell_type": "code",
   "execution_count": null,
   "metadata": {},
   "outputs": [],
   "source": [
    "num=1\n",
    "while num <= 10000:\n",
    "    i=1\n",
    "    s=0\n",
    "    while i <= num/2:\n",
    "        if (num % i == 0):\n",
    "            s=s+i\n",
    "        i+=1\n",
    "    if num==s:\n",
    "        print(num)\n",
    "    num+=1"
   ]
  },
  {
   "cell_type": "markdown",
   "metadata": {},
   "source": [
    "The value of $e$ can be estimatede by:\n",
    "$\\begin{equation}\n",
    "e=1+\\frac{1}{2!}+\\frac{1}{3!}+\\frac{1}{4!}...+\\frac{1}{n!}\n",
    "\\end{equation}$ where $i$ is the number of times of estimating the value of $e$. write a function to implement the following series <br>\n",
    "$\\begin{equation}\n",
    "\\frac{1}{n!}=\\frac{1}{i(n-1)i}\n",
    "\\end{equation}$"
   ]
  },
  {
   "cell_type": "code",
   "execution_count": null,
   "metadata": {},
   "outputs": [],
   "source": [
    "def approximate(i):\n",
    "    factorial = 1\n",
    "    e = 0\n",
    "    #i=5\n",
    "    x = 1\n",
    "    while  x <= i:\n",
    "        factorial = factorial * x\n",
    "        e += (1 / factorial)\n",
    "        x+=1\n",
    "    #print(e)\n",
    "#return e\n",
    "def main():\n",
    "    i=int(input(\"Enter number\"))\n",
    "    approximate(i)\n",
    "    print(e)\n",
    "main()"
   ]
  },
  {
   "cell_type": "markdown",
   "metadata": {},
   "source": [
    "\\begin{equation}\n",
    "sin(x) = \\sum_{i=0}^{\\infty}(-1)^n*\\frac{x^{2n+i}}{{(2n+1)}!}\n",
    "\\end{equation}<br><br>\n",
    "\\begin{equation}\n",
    "cos(x) = \\sum_{i=0}^{\\infty}(-1)^n*\\frac{x^{2n+i}}{(2n)!}\n",
    "\\end{equation}\n"
   ]
  },
  {
   "cell_type": "code",
   "execution_count": null,
   "metadata": {},
   "outputs": [],
   "source": [
    "import math\n",
    "def radians(x):\n",
    "    return x/180*math.pi\n",
    "def factorial(x):\n",
    "    f=1\n",
    "    while x>1:\n",
    "        f=f*x\n",
    "        x=x-1\n",
    "    return f\n",
    "def sinx(x):\n",
    "    snx=0\n",
    "    n=0\n",
    "    while n<=60:\n",
    "        snx=snx+(-1)**n*(x**(2*n+1))/factorial(2*n+1)\n",
    "        n+=1\n",
    "    return snx\n",
    "def cosx(x):\n",
    "    csx=0\n",
    "    for n in range(0,20):\n",
    "        csx+=math.pow(-1,n)*math.pow(x,(2*n))/factorial(2*n)\n",
    "    return csx\n",
    "def main():\n",
    "    deg=float(input('Enter angle'))\n",
    "    xrad=radians(deg)\n",
    "    sx=sinx(xrad)\n",
    "    cx=cosx(xrad)\n",
    "    print('sin(',deg,') =', sx)\n",
    "    print('cos(',deg,') =', cx)\n",
    "main()"
   ]
  },
  {
   "cell_type": "markdown",
   "metadata": {},
   "source": [
    "Calender Function"
   ]
  },
  {
   "cell_type": "code",
   "execution_count": 11,
   "metadata": {},
   "outputs": [],
   "source": [
    "daysPerMonth = [31, 28, 31, 30, 31, 30, 31, 31, 30, 31, 30, 31]\n",
    "days = ['Monday', 'Tuesday', 'Wednesday', 'Thursday', 'Friday','Saturday', 'Sunday']\n",
    "months = [\"January\", \"February\", \"March\", \"April\", \"May\", \"June\", \"July\", \"August\", \"September\", \"October\", \"November\", \"December\"]"
   ]
  },
  {
   "cell_type": "markdown",
   "metadata": {},
   "source": [
    "(a) Write a function firstJan which receives a year and returns the index of the day on which first of\n",
    "January fall"
   ]
  },
  {
   "cell_type": "code",
   "execution_count": 12,
   "metadata": {},
   "outputs": [],
   "source": [
    "def firstJan(year):\n",
    "    global dayIndex\n",
    "    dayIndex = 5*((year-1)%4)\n",
    "    dayIndex += (4*((year-1)%100))\n",
    "    dayIndex += 6*((year-1)%400)\n",
    "    dayIndex = dayIndex%7\n",
    "    return dayIndex\n"
   ]
  },
  {
   "cell_type": "markdown",
   "metadata": {},
   "source": [
    "(b) Write a function isLeap which receives a year and change number of days of February to 29 if the\n",
    "year received is a leap year. A leap year is divisible by 4"
   ]
  },
  {
   "cell_type": "code",
   "execution_count": 13,
   "metadata": {},
   "outputs": [],
   "source": [
    "def isLeap(year):\n",
    "    if year%4==0:\n",
    "        daysPerMonth[1] = 29\n",
    "        return daysPerMonth\n",
    "    else:\n",
    "        daysPerMonth[1] = 28\n",
    "        return daysPerMonth\n"
   ]
  },
  {
   "cell_type": "markdown",
   "metadata": {},
   "source": [
    "(c) Write a function birthDays which receives year, month and day, then displays the day on which your\n",
    "birthday falls. If you were born on 12-April and you pass the values 12, 4, 2021 to this function, it\n",
    "should display Your birth day in 2021 is on a Monday 12/April/2021. Re-use the functions in (a) and\n",
    "(b) above\n"
   ]
  },
  {
   "cell_type": "code",
   "execution_count": 14,
   "metadata": {},
   "outputs": [],
   "source": [
    "def birthDays(year,month,day):\n",
    "    isLeap(year)\n",
    "    num = 0\n",
    "    if month == 1:\n",
    "        num = day-1\n",
    "    else:\n",
    "        for i in range(2,month+1):\n",
    "            num += daysPerMonth[i-2]\n",
    "        num += day-1\n",
    "    n=(firstJan(year)+num)%7\n",
    "    print(\"Your birth day in \",year,\" is on a \",days[n],\" \",day,\"/\", month,\"/\",year, sep='')\n"
   ]
  },
  {
   "cell_type": "markdown",
   "metadata": {},
   "source": [
    "(d) Write a function that receives the month and year you were born, and displays the calendar for the\n",
    "previous month in a 6 by 7 grid. If you were born in September, and you enter year as 2021, your\n",
    "function should display the output below"
   ]
  },
  {
   "cell_type": "code",
   "execution_count": 15,
   "metadata": {},
   "outputs": [],
   "source": [
    "def monthCal(year, month):\n",
    "    isLeap(year)\n",
    "    num = 0\n",
    "    for i in range(2,month):\n",
    "        num += daysPerMonth[i-2]\n",
    "    n=(firstJan(year)+num)%7\n",
    "    print(n, num)\n",
    "    print(\"Mon\",\"Tue\",\"Wed\", \"Thur\",\"Fri\",\"Sat\",\"Sun\",sep='\\t')\n",
    "    date = 1-n\n",
    "    for i in range(0,6):\n",
    "        for j in range(0,7):\n",
    "            if date<=0:\n",
    "                #date=daysPerMonth[month-3]\n",
    "                print(daysPerMonth[month-2]+date,'\\t',end='')\n",
    "            elif date>daysPerMonth[month-1]:\n",
    "                print(date-daysPerMonth[month-1],'\\t',end='')\n",
    "            else:\n",
    "                print(date,'\\t',end='')\n",
    "            date+=1\n",
    "        print('\\n')\n"
   ]
  },
  {
   "cell_type": "markdown",
   "metadata": {},
   "source": [
    "(e) Write main function and invoke the functions in (a), (c) and (d). Read day, month and year as\n",
    "integers and pass them appropriately to these functions"
   ]
  },
  {
   "cell_type": "code",
   "execution_count": 16,
   "metadata": {},
   "outputs": [
    {
     "name": "stdout",
     "output_type": "stream",
     "text": [
      "Enter Year: 2023\n",
      "Enter Month of birth: 2\n",
      "Enter day of Birth: 16\n",
      "First of January 2023 is on Sunday\n",
      "Your birth day in 2023 is on a Thursday 16/2/2023\n",
      "6 0\n",
      "Mon\tTue\tWed\tThur\tFri\tSat\tSun\n",
      "26 \t27 \t28 \t29 \t30 \t31 \t1 \t\n",
      "\n",
      "2 \t3 \t4 \t5 \t6 \t7 \t8 \t\n",
      "\n",
      "9 \t10 \t11 \t12 \t13 \t14 \t15 \t\n",
      "\n",
      "16 \t17 \t18 \t19 \t20 \t21 \t22 \t\n",
      "\n",
      "23 \t24 \t25 \t26 \t27 \t28 \t1 \t\n",
      "\n",
      "2 \t3 \t4 \t5 \t6 \t7 \t8 \t\n",
      "\n"
     ]
    }
   ],
   "source": [
    "def main():\n",
    "    year=int(input(\"Enter Year: \"))\n",
    "    month=int(input(\"Enter Month of birth: \"))\n",
    "    day=int(input(\"Enter day of Birth: \"))\n",
    "    firstJan(year)\n",
    "    print(\"First of January\",year,\"is on\",days[dayIndex])\n",
    "    birthDays(year, month,day)\n",
    "    monthCal(year,month)\n",
    "main()\n"
   ]
  },
  {
   "cell_type": "markdown",
   "metadata": {},
   "source": [
    "A number is saind to be odd if $number \\% 2 != 0$<br>\n",
    "Write a function to determine if a number is odd or even"
   ]
  },
  {
   "cell_type": "code",
   "execution_count": null,
   "metadata": {},
   "outputs": [],
   "source": [
    "def oddEven(n):\n",
    "    if n%2==0:\n",
    "        print(n, 'is even')\n",
    "    else:\n",
    "        print(n,\"is odd\")\n",
    "def main():\n",
    "    n=int(input(\"enter a number\"))\n",
    "    oddEven(n)\n",
    "main()"
   ]
  },
  {
   "cell_type": "code",
   "execution_count": null,
   "metadata": {},
   "outputs": [],
   "source": [
    "rows = 0\n",
    "while rows < 7:\n",
    "    cols = 0\n",
    "    while cols < 7:\n",
    "        if rows != 0 and cols < rows:\n",
    "            print( ' ' , ' ' , end = '')\n",
    "        else :\n",
    "            print('∗' , ' ' , end = '')\n",
    "        cols += 1\n",
    "   \n",
    "    rows += 1\n",
    "    print ()\n",
    "# The equivalent for loop code is below −− commented\n",
    "# for rows in range(7):\n",
    "#     for cols in range(7):\n",
    "#         if rows != 0 and cols < rows:\n",
    "#             print (' ', ' ', end = '')\n",
    "#         else :\n",
    "#             print ('∗', ' ', end = '')\n",
    "# print ()"
   ]
  },
  {
   "cell_type": "code",
   "execution_count": null,
   "metadata": {},
   "outputs": [],
   "source": [
    "rows = 0\n",
    "while rows < 7:\n",
    "    cols = 0\n",
    "    while cols < 7:\n",
    "        print('∗' , ' ' , end ='' )\n",
    "        cols += 1\n",
    "    rows += 1\n",
    "    print()\n",
    "# for rows in range(7):\n",
    "#     for cols in range(7):\n",
    "#         print ('∗',' ' , end = '')\n",
    "#     print() "
   ]
  },
  {
   "cell_type": "markdown",
   "metadata": {},
   "source": [
    "Write a function that give three digit random number\n"
   ]
  },
  {
   "cell_type": "code",
   "execution_count": null,
   "metadata": {},
   "outputs": [],
   "source": [
    "from random import randrange, seed\n",
    "#seed(23) # Set random number seed\n",
    "#for i in range(0, 3): # Print 100 random numbers\n",
    "print(randrange(100, 1000), end=' ') # Range 1...1,000, inclusive\n",
    "print() # Print newine"
   ]
  },
  {
   "cell_type": "markdown",
   "metadata": {},
   "source": [
    "Function to calculate area and aperimeter of a circle using in built function $math.pi$"
   ]
  },
  {
   "cell_type": "code",
   "execution_count": null,
   "metadata": {},
   "outputs": [],
   "source": [
    "import math as m\n",
    "def areac(rad):\n",
    "    return m.pi * rad**2\n",
    "def main():\n",
    "    rad=int(input(\"Enter rad\"))\n",
    "    print(areac(rad))\n",
    "main()"
   ]
  },
  {
   "cell_type": "markdown",
   "metadata": {},
   "source": [
    "Function to convert decimals to binary"
   ]
  },
  {
   "cell_type": "code",
   "execution_count": null,
   "metadata": {},
   "outputs": [],
   "source": [
    "def cbin(dec, bas):\n",
    "    binn=\" \"\n",
    "    while dec!=0:\n",
    "        r=dec%bas\n",
    "        binn=binn+str(r)\n",
    "        dec=dec//2\n",
    "    print(binn[::-1])\n",
    "def main():\n",
    "    dec =int(input(\"enter number\"))\n",
    "    bas=int(input(\"Enter base\"))\n",
    "    cbin(dec,bas)\n",
    "main()"
   ]
  },
  {
   "cell_type": "markdown",
   "metadata": {},
   "source": [
    "Function to convert binary to decimals\n"
   ]
  },
  {
   "cell_type": "code",
   "execution_count": null,
   "metadata": {},
   "outputs": [],
   "source": [
    "number=input(\"Enter binary\")\n",
    "dec_number=int(number,2)\n",
    "#octal_num=oct(dec_number)\n",
    "print(dec_number)\n",
    "#print(type(octal_num))"
   ]
  },
  {
   "cell_type": "code",
   "execution_count": null,
   "metadata": {},
   "outputs": [],
   "source": [
    "binn=int(input(\"enter number:\"))\n",
    "dec=0\n",
    "m=1\n",
    "leng=len(str(binn))\n",
    "for k in range(leng):\n",
    "    rem=binn%10\n",
    "    dec=dec+(rem*m)\n",
    "    m=m*2\n",
    "binn=int(binn/10)\n",
    "print(dec)"
   ]
  },
  {
   "cell_type": "markdown",
   "metadata": {},
   "source": [
    "\\begin{equation}\n",
    "\\sum=\\frac{mean}{f}\n",
    "\\end{equation}"
   ]
  },
  {
   "cell_type": "code",
   "execution_count": 17,
   "metadata": {},
   "outputs": [
    {
     "name": "stdout",
     "output_type": "stream",
     "text": [
      "3\n"
     ]
    }
   ],
   "source": [
    "p=2023%4\n",
    "print(p)"
   ]
  },
  {
   "cell_type": "code",
   "execution_count": null,
   "metadata": {},
   "outputs": [],
   "source": [
    "#num=1\n",
    "for num in range(1 ,10000):\n",
    "    #i=1\n",
    "    s=0\n",
    "    while i <= num/2:\n",
    "        if (num % i == 0):\n",
    "            s=s+i\n",
    "        i+=1\n",
    "    if num==s:\n",
    "        print(num)\n",
    "    num+=1"
   ]
  }
 ],
 "metadata": {
  "kernelspec": {
   "display_name": "Python 3",
   "language": "python",
   "name": "python3"
  },
  "language_info": {
   "codemirror_mode": {
    "name": "ipython",
    "version": 3
   },
   "file_extension": ".py",
   "mimetype": "text/x-python",
   "name": "python",
   "nbconvert_exporter": "python",
   "pygments_lexer": "ipython3",
   "version": "3.8.5"
  }
 },
 "nbformat": 4,
 "nbformat_minor": 5
}
